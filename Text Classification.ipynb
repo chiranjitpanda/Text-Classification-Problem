{
 "cells": [
  {
   "cell_type": "code",
   "execution_count": 50,
   "id": "349800c2",
   "metadata": {},
   "outputs": [],
   "source": [
    "from tensorflow.keras.preprocessing.text import one_hot\n",
    "from tensorflow.keras.layers import Embedding,Flatten,Dense\n",
    "from tensorflow.keras.models import Sequential\n",
    "from tensorflow.keras.preprocessing.sequence import pad_sequences\n",
    "from numpy import array"
   ]
  },
  {
   "cell_type": "markdown",
   "id": "222c8701",
   "metadata": {},
   "source": [
    "### define the documents and thei class labels"
   ]
  },
  {
   "cell_type": "code",
   "execution_count": 51,
   "id": "7ad31491",
   "metadata": {},
   "outputs": [],
   "source": [
    "docs = ['Well done!',\n",
    "'Good work',\n",
    "'Great effort',\n",
    "'nice work',\n",
    "'Excellent!',\n",
    "'Weak',\n",
    "'Poor effort!',\n",
    "'not good',\n",
    "'poor work',\n",
    "'Could have done better.']\n",
    "\n",
    "## define class labels\n",
    "labels = array([1,1,1,1,1,0,0,0,0,0])"
   ]
  },
  {
   "cell_type": "code",
   "execution_count": 52,
   "id": "b840af68",
   "metadata": {},
   "outputs": [
    {
     "data": {
      "text/plain": [
       "array([1, 1, 1, 1, 1, 0, 0, 0, 0, 0])"
      ]
     },
     "execution_count": 52,
     "metadata": {},
     "output_type": "execute_result"
    }
   ],
   "source": [
    "labels"
   ]
  },
  {
   "cell_type": "code",
   "execution_count": 53,
   "id": "54ebacc9",
   "metadata": {},
   "outputs": [
    {
     "data": {
      "text/plain": [
       "['Well done!',\n",
       " 'Good work',\n",
       " 'Great effort',\n",
       " 'nice work',\n",
       " 'Excellent!',\n",
       " 'Weak',\n",
       " 'Poor effort!',\n",
       " 'not good',\n",
       " 'poor work',\n",
       " 'Could have done better.']"
      ]
     },
     "execution_count": 53,
     "metadata": {},
     "output_type": "execute_result"
    }
   ],
   "source": [
    "docs"
   ]
  },
  {
   "cell_type": "code",
   "execution_count": 54,
   "id": "9234c50d",
   "metadata": {},
   "outputs": [],
   "source": [
    "## integer encode the documents\n",
    "voc_size=10000"
   ]
  },
  {
   "cell_type": "markdown",
   "id": "c765b478",
   "metadata": {},
   "source": [
    "## one hot representation"
   ]
  },
  {
   "cell_type": "code",
   "execution_count": 55,
   "id": "d5e1ee2e",
   "metadata": {},
   "outputs": [
    {
     "data": {
      "text/plain": [
       "[[8287, 5675],\n",
       " [8863, 1576],\n",
       " [8406, 1172],\n",
       " [5279, 1576],\n",
       " [6920],\n",
       " [6417],\n",
       " [429, 1172],\n",
       " [7130, 8863],\n",
       " [429, 1576],\n",
       " [5029, 6979, 5675, 9982]]"
      ]
     },
     "execution_count": 55,
     "metadata": {},
     "output_type": "execute_result"
    }
   ],
   "source": [
    "onehot_rep = [one_hot(words,voc_size) for words in docs]\n",
    "onehot_rep"
   ]
  },
  {
   "cell_type": "code",
   "execution_count": 56,
   "id": "b9ebcf46",
   "metadata": {},
   "outputs": [
    {
     "name": "stdout",
     "output_type": "stream",
     "text": [
      "[[   0    0    0    0    0    0 8287 5675]\n",
      " [   0    0    0    0    0    0 8863 1576]\n",
      " [   0    0    0    0    0    0 8406 1172]\n",
      " [   0    0    0    0    0    0 5279 1576]\n",
      " [   0    0    0    0    0    0    0 6920]\n",
      " [   0    0    0    0    0    0    0 6417]\n",
      " [   0    0    0    0    0    0  429 1172]\n",
      " [   0    0    0    0    0    0 7130 8863]\n",
      " [   0    0    0    0    0    0  429 1576]\n",
      " [   0    0    0    0 5029 6979 5675 9982]]\n"
     ]
    }
   ],
   "source": [
    "## We will pad all input sequences to have the length of 4 again for pad_sequences\n",
    "docs_length = 8\n",
    "embedded_docs = pad_sequences(onehot_rep,padding='pre',maxlen=docs_length)\n",
    "print(embedded_docs)"
   ]
  },
  {
   "cell_type": "code",
   "execution_count": 57,
   "id": "cc6d087a",
   "metadata": {},
   "outputs": [
    {
     "name": "stdout",
     "output_type": "stream",
     "text": [
      "Model: \"sequential_6\"\n",
      "_________________________________________________________________\n",
      "Layer (type)                 Output Shape              Param #   \n",
      "=================================================================\n",
      "embedding_5 (Embedding)      (None, 8, 8)              80000     \n",
      "_________________________________________________________________\n",
      "flatten_4 (Flatten)          (None, 64)                0         \n",
      "_________________________________________________________________\n",
      "dense_2 (Dense)              (None, 1)                 65        \n",
      "=================================================================\n",
      "Total params: 80,065\n",
      "Trainable params: 80,065\n",
      "Non-trainable params: 0\n",
      "_________________________________________________________________\n"
     ]
    }
   ],
   "source": [
    "### We are now ready to define our Embedding layer as part of our neural network model.\n",
    "### The Embedding has a vocabulary of 50 and an input length of 4. We will choose a small embedding space of 8 dimensions.\n",
    "#### The model is a simple binary classification model. Importantly, the output from the Embedding layer will be 4 vectors of 8 dimensions each, one for each word. We flatten this to a one 32-element vector to pass on to the Dense output layer.\n",
    "\n",
    "\n",
    "dims = 8\n",
    "\n",
    "## define the model\n",
    "model = Sequential()\n",
    "model.add(Embedding(voc_size,8,input_length=docs_length))\n",
    "model.add(Flatten())\n",
    "model.add(Dense(1,activation='sigmoid'))\n",
    "## compile the model\n",
    "model.compile(optimizer = 'adam',loss='binary_crossentropy',metrics=['accuracy'])\n",
    "\n",
    "## summerized the model\n",
    "model.summary()"
   ]
  },
  {
   "cell_type": "code",
   "execution_count": 58,
   "id": "060ed17e",
   "metadata": {},
   "outputs": [
    {
     "data": {
      "text/plain": [
       "<tensorflow.python.keras.callbacks.History at 0x128d4ed4f40>"
      ]
     },
     "execution_count": 58,
     "metadata": {},
     "output_type": "execute_result"
    }
   ],
   "source": [
    "### Finally, we can fit and evaluate the classification model.\n",
    "\n",
    "## fit the model\n",
    "model.fit(embedded_docs,labels,epochs=50,verbose=0)\n",
    "## evaluate the model\n"
   ]
  },
  {
   "cell_type": "code",
   "execution_count": 59,
   "id": "8fcf0c2c",
   "metadata": {},
   "outputs": [
    {
     "name": "stdout",
     "output_type": "stream",
     "text": [
      "[[0.52463216]\n",
      " [0.53970015]\n",
      " [0.5172006 ]\n",
      " [0.5480965 ]\n",
      " [0.5328357 ]\n",
      " [0.47571224]\n",
      " [0.48362216]\n",
      " [0.48075306]\n",
      " [0.51677233]\n",
      " [0.41849992]]\n"
     ]
    }
   ],
   "source": [
    "print(model.predict(embedded_docs))"
   ]
  },
  {
   "cell_type": "code",
   "execution_count": 60,
   "id": "9ef399b7",
   "metadata": {},
   "outputs": [
    {
     "data": {
      "text/plain": [
       "0.6383388638496399"
      ]
     },
     "execution_count": 60,
     "metadata": {},
     "output_type": "execute_result"
    }
   ],
   "source": [
    "## evaluate the model\n",
    "loss,accuracy = model.evaluate(embedded_docs,labels,verbose=0)\n",
    "loss"
   ]
  },
  {
   "cell_type": "code",
   "execution_count": 61,
   "id": "86ceff53",
   "metadata": {
    "scrolled": true
   },
   "outputs": [
    {
     "data": {
      "text/plain": [
       "array([   0,    0,    0,    0,    0,    0, 8287, 5675])"
      ]
     },
     "execution_count": 61,
     "metadata": {},
     "output_type": "execute_result"
    }
   ],
   "source": [
    "embedded_docs[0]"
   ]
  },
  {
   "cell_type": "code",
   "execution_count": 62,
   "id": "bb337f4c",
   "metadata": {},
   "outputs": [
    {
     "name": "stdout",
     "output_type": "stream",
     "text": [
      "[0.52463216]\n"
     ]
    }
   ],
   "source": [
    "print(model.predict(embedded_docs)[0])"
   ]
  },
  {
   "cell_type": "code",
   "execution_count": 63,
   "id": "2d3c6425",
   "metadata": {},
   "outputs": [
    {
     "data": {
      "text/plain": [
       "0.8999999761581421"
      ]
     },
     "execution_count": 63,
     "metadata": {},
     "output_type": "execute_result"
    }
   ],
   "source": [
    "accuracy"
   ]
  },
  {
   "cell_type": "code",
   "execution_count": 64,
   "id": "9bb78392",
   "metadata": {},
   "outputs": [
    {
     "name": "stdout",
     "output_type": "stream",
     "text": [
      "Accuracy: 89.999998\n"
     ]
    }
   ],
   "source": [
    "print('Accuracy: %f' % (accuracy*100))"
   ]
  },
  {
   "cell_type": "code",
   "execution_count": null,
   "id": "932c7d20",
   "metadata": {},
   "outputs": [],
   "source": []
  }
 ],
 "metadata": {
  "kernelspec": {
   "display_name": "Python 3",
   "language": "python",
   "name": "python3"
  },
  "language_info": {
   "codemirror_mode": {
    "name": "ipython",
    "version": 3
   },
   "file_extension": ".py",
   "mimetype": "text/x-python",
   "name": "python",
   "nbconvert_exporter": "python",
   "pygments_lexer": "ipython3",
   "version": "3.9.5"
  }
 },
 "nbformat": 4,
 "nbformat_minor": 5
}
